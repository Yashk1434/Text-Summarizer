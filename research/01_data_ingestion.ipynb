{
 "cells": [
  {
   "cell_type": "code",
   "id": "initial_id",
   "metadata": {
    "collapsed": true,
    "ExecuteTime": {
     "end_time": "2024-08-14T17:35:32.530522Z",
     "start_time": "2024-08-14T17:35:32.522509Z"
    }
   },
   "source": "import os",
   "outputs": [],
   "execution_count": 1
  },
  {
   "metadata": {
    "ExecuteTime": {
     "end_time": "2024-08-14T17:35:32.540831Z",
     "start_time": "2024-08-14T17:35:32.533552Z"
    }
   },
   "cell_type": "code",
   "source": "%pwd",
   "id": "a0df740ad9933908",
   "outputs": [
    {
     "data": {
      "text/plain": [
       "'D:\\\\Developement\\\\Text-Summarizer\\\\research'"
      ]
     },
     "execution_count": 2,
     "metadata": {},
     "output_type": "execute_result"
    }
   ],
   "execution_count": 2
  },
  {
   "metadata": {
    "ExecuteTime": {
     "end_time": "2024-08-14T17:35:32.547223Z",
     "start_time": "2024-08-14T17:35:32.542351Z"
    }
   },
   "cell_type": "code",
   "source": "os.chdir(\"../\")",
   "id": "dbd2fa7c219f149a",
   "outputs": [],
   "execution_count": 3
  },
  {
   "metadata": {
    "ExecuteTime": {
     "end_time": "2024-08-14T17:35:32.553263Z",
     "start_time": "2024-08-14T17:35:32.549235Z"
    }
   },
   "cell_type": "code",
   "source": [
    "# os.chdir(\"../\")\n",
    "# os.chdir(\"Developement/Text-Summarizer\")"
   ],
   "id": "2e4ca84c4c5cc959",
   "outputs": [],
   "execution_count": 4
  },
  {
   "metadata": {
    "ExecuteTime": {
     "end_time": "2024-08-14T17:35:32.560405Z",
     "start_time": "2024-08-14T17:35:32.556286Z"
    }
   },
   "cell_type": "code",
   "source": [
    "%pwd\n",
    "os.chdir(\"src\")"
   ],
   "id": "e83a97d5f6e626c1",
   "outputs": [],
   "execution_count": 5
  },
  {
   "metadata": {
    "ExecuteTime": {
     "end_time": "2024-08-14T17:35:32.568733Z",
     "start_time": "2024-08-14T17:35:32.562424Z"
    }
   },
   "cell_type": "code",
   "source": "%pwd",
   "id": "87fbdc0145359cbd",
   "outputs": [
    {
     "data": {
      "text/plain": [
       "'D:\\\\Developement\\\\Text-Summarizer\\\\src'"
      ]
     },
     "execution_count": 6,
     "metadata": {},
     "output_type": "execute_result"
    }
   ],
   "execution_count": 6
  },
  {
   "metadata": {
    "ExecuteTime": {
     "end_time": "2024-08-14T17:35:32.575886Z",
     "start_time": "2024-08-14T17:35:32.569738Z"
    }
   },
   "cell_type": "code",
   "source": [
    "from dataclasses import dataclass\n",
    "from pathlib import Path\n",
    "\n",
    "@dataclass(frozen = True)\n",
    "class DataIngestionConfig:\n",
    "    root_dir: Path\n",
    "    source_URL: str\n",
    "    local_data_file: Path\n",
    "    unzip_dir: Path"
   ],
   "id": "9d2b997f8c64f437",
   "outputs": [],
   "execution_count": 7
  },
  {
   "metadata": {
    "ExecuteTime": {
     "end_time": "2024-08-14T17:35:32.659970Z",
     "start_time": "2024-08-14T17:35:32.576896Z"
    }
   },
   "cell_type": "code",
   "source": [
    "from textSummarizer.constants import *\n",
    "from textSummarizer.utils.common import read_yaml, create_directories"
   ],
   "id": "233fcb9e0ccd082b",
   "outputs": [],
   "execution_count": 8
  },
  {
   "metadata": {
    "ExecuteTime": {
     "end_time": "2024-08-14T17:35:32.668066Z",
     "start_time": "2024-08-14T17:35:32.660977Z"
    }
   },
   "cell_type": "code",
   "source": [
    "class ConfigurationManager:\n",
    "    def __init__(\n",
    "        self,\n",
    "        config_filepath = CONFIG_FILE_PATH,\n",
    "        params_filepath = PARAMS_FILE_PATH):\n",
    "\n",
    "        self.config = read_yaml(config_filepath)\n",
    "        self.params = read_yaml(params_filepath)\n",
    "\n",
    "        create_directories([self.config.artifacts_root])\n",
    "\n",
    "    \n",
    "\n",
    "    def get_data_ingestion_config(self) -> DataIngestionConfig:\n",
    "        config = self.config.data_ingestion\n",
    "\n",
    "        create_directories([config.root_dir])\n",
    "\n",
    "        data_ingestion_config = DataIngestionConfig(\n",
    "            root_dir=config.root_dir,\n",
    "            source_URL=config.source_URL,\n",
    "            local_data_file=config.local_data_file,\n",
    "            unzip_dir=config.unzip_dir \n",
    "        )\n",
    "\n",
    "        return data_ingestion_config"
   ],
   "id": "f1083522d1bf4d1b",
   "outputs": [],
   "execution_count": 9
  },
  {
   "metadata": {
    "ExecuteTime": {
     "end_time": "2024-08-14T17:35:32.675075Z",
     "start_time": "2024-08-14T17:35:32.670078Z"
    }
   },
   "cell_type": "code",
   "source": [
    "import os\n",
    "import urllib.request as request\n",
    "import zipfile\n",
    "from textSummarizer.logging import logger\n",
    "from textSummarizer.utils.common import get_size"
   ],
   "id": "f53255f918a62301",
   "outputs": [],
   "execution_count": 10
  },
  {
   "metadata": {
    "ExecuteTime": {
     "end_time": "2024-08-14T17:35:32.682595Z",
     "start_time": "2024-08-14T17:35:32.676086Z"
    }
   },
   "cell_type": "code",
   "source": [
    "class DataIngestion:\n",
    "    def __init__(self, config: DataIngestionConfig):\n",
    "        self.config = config\n",
    "\n",
    "\n",
    "    \n",
    "    def download_file(self):\n",
    "        if not os.path.exists(self.config.local_data_file):\n",
    "            filename, headers = request.urlretrieve(\n",
    "                url = self.config.source_URL,\n",
    "                filename = self.config.local_data_file\n",
    "            )\n",
    "            logger.info(f\"{filename} download! with following info: \\n{headers}\")\n",
    "        else:\n",
    "            logger.info(f\"File already exists of size: {get_size(Path(self.config.local_data_file))}\")  \n",
    "\n",
    "        \n",
    "    \n",
    "    def extract_zip_file(self):\n",
    "        \"\"\"\n",
    "        zip_file_path: str\n",
    "        Extracts the zip file into the data directory\n",
    "        Function returns None\n",
    "        \"\"\"\n",
    "        unzip_path = self.config.unzip_dir\n",
    "        os.makedirs(unzip_path, exist_ok=True)\n",
    "        with zipfile.ZipFile(self.config.local_data_file, 'r') as zip_ref:\n",
    "            zip_ref.extractall(unzip_path)"
   ],
   "id": "f0c3c696cd3ee36",
   "outputs": [],
   "execution_count": 11
  },
  {
   "metadata": {
    "ExecuteTime": {
     "end_time": "2024-08-14T17:35:32.704101Z",
     "start_time": "2024-08-14T17:35:32.699112Z"
    }
   },
   "cell_type": "code",
   "source": [
    "%pwd\n",
    "os.chdir(\"../\")"
   ],
   "id": "60706d1372562053",
   "outputs": [],
   "execution_count": 12
  },
  {
   "metadata": {
    "ExecuteTime": {
     "end_time": "2024-08-14T17:35:32.826986Z",
     "start_time": "2024-08-14T17:35:32.820710Z"
    }
   },
   "cell_type": "code",
   "source": "%pwd",
   "id": "1a447cffc9fe1a68",
   "outputs": [
    {
     "data": {
      "text/plain": [
       "'D:\\\\Developement\\\\Text-Summarizer'"
      ]
     },
     "execution_count": 13,
     "metadata": {},
     "output_type": "execute_result"
    }
   ],
   "execution_count": 13
  },
  {
   "metadata": {
    "ExecuteTime": {
     "end_time": "2024-08-14T17:35:33.036984Z",
     "start_time": "2024-08-14T17:35:32.889943Z"
    }
   },
   "cell_type": "code",
   "source": [
    "try:\n",
    "    config = ConfigurationManager()\n",
    "    data_ingestion_config = config.get_data_ingestion_config()\n",
    "    data_ingestion = DataIngestion(config=data_ingestion_config)\n",
    "    data_ingestion.download_file()\n",
    "    data_ingestion.extract_zip_file()\n",
    "except Exception as e:\n",
    "    raise e"
   ],
   "id": "54c16c6dc50ee682",
   "outputs": [
    {
     "name": "stdout",
     "output_type": "stream",
     "text": [
      "[2024-08-14 23:05:32,893: INFO: common: yaml file: config\\config.yaml loaded successfully]\n",
      "[2024-08-14 23:05:32,895: INFO: common: yaml file: params.yaml loaded successfully]\n",
      "[2024-08-14 23:05:32,897: INFO: common: created directory at: artifacts]\n",
      "[2024-08-14 23:05:32,897: INFO: common: created directory at: artifacts/data_ingestion]\n",
      "[2024-08-14 23:05:32,898: INFO: 3078253932: File already exists of size: ~ 7718 KB]\n"
     ]
    }
   ],
   "execution_count": 14
  }
 ],
 "metadata": {
  "kernelspec": {
   "display_name": "Python 3",
   "language": "python",
   "name": "python3"
  },
  "language_info": {
   "codemirror_mode": {
    "name": "ipython",
    "version": 2
   },
   "file_extension": ".py",
   "mimetype": "text/x-python",
   "name": "python",
   "nbconvert_exporter": "python",
   "pygments_lexer": "ipython2",
   "version": "2.7.6"
  }
 },
 "nbformat": 4,
 "nbformat_minor": 5
}
