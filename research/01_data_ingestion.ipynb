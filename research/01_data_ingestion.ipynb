{
 "cells": [
  {
   "cell_type": "code",
   "id": "initial_id",
   "metadata": {
    "collapsed": true,
    "ExecuteTime": {
     "end_time": "2024-08-14T21:15:09.971831Z",
     "start_time": "2024-08-14T21:15:09.966827Z"
    }
   },
   "source": "import os",
   "outputs": [],
   "execution_count": 1
  },
  {
   "metadata": {
    "ExecuteTime": {
     "end_time": "2024-08-14T21:15:09.985125Z",
     "start_time": "2024-08-14T21:15:09.972837Z"
    }
   },
   "cell_type": "code",
   "source": "%pwd",
   "id": "a0df740ad9933908",
   "outputs": [
    {
     "data": {
      "text/plain": [
       "'D:\\\\Developement\\\\Text-Summarizer\\\\research'"
      ]
     },
     "execution_count": 2,
     "metadata": {},
     "output_type": "execute_result"
    }
   ],
   "execution_count": 2
  },
  {
   "metadata": {
    "ExecuteTime": {
     "end_time": "2024-08-14T21:15:10.006868Z",
     "start_time": "2024-08-14T21:15:10.003134Z"
    }
   },
   "cell_type": "code",
   "source": "os.chdir(\"../\")",
   "id": "dbd2fa7c219f149a",
   "outputs": [],
   "execution_count": 3
  },
  {
   "metadata": {
    "ExecuteTime": {
     "end_time": "2024-08-14T21:15:10.017852Z",
     "start_time": "2024-08-14T21:15:10.014873Z"
    }
   },
   "cell_type": "code",
   "source": [
    "# os.chdir(\"../\")\n",
    "# os.chdir(\"Developement/Text-Summarizer\")"
   ],
   "id": "2e4ca84c4c5cc959",
   "outputs": [],
   "execution_count": 4
  },
  {
   "metadata": {
    "ExecuteTime": {
     "end_time": "2024-08-14T21:15:10.038248Z",
     "start_time": "2024-08-14T21:15:10.034858Z"
    }
   },
   "cell_type": "code",
   "source": [
    "%pwd\n",
    "os.chdir(\"src\")"
   ],
   "id": "e83a97d5f6e626c1",
   "outputs": [],
   "execution_count": 5
  },
  {
   "metadata": {
    "ExecuteTime": {
     "end_time": "2024-08-14T21:15:10.061472Z",
     "start_time": "2024-08-14T21:15:10.057262Z"
    }
   },
   "cell_type": "code",
   "source": "%pwd",
   "id": "87fbdc0145359cbd",
   "outputs": [
    {
     "data": {
      "text/plain": [
       "'D:\\\\Developement\\\\Text-Summarizer\\\\src'"
      ]
     },
     "execution_count": 6,
     "metadata": {},
     "output_type": "execute_result"
    }
   ],
   "execution_count": 6
  },
  {
   "metadata": {
    "ExecuteTime": {
     "end_time": "2024-08-14T21:15:10.069957Z",
     "start_time": "2024-08-14T21:15:10.062478Z"
    }
   },
   "cell_type": "code",
   "source": [
    "from dataclasses import dataclass\n",
    "from pathlib import Path\n",
    "\n",
    "@dataclass(frozen = True)\n",
    "class DataIngestionConfig:\n",
    "    root_dir: Path\n",
    "    source_URL: str\n",
    "    local_data_file: Path\n",
    "    unzip_dir: Path"
   ],
   "id": "9d2b997f8c64f437",
   "outputs": [],
   "execution_count": 7
  },
  {
   "metadata": {
    "ExecuteTime": {
     "end_time": "2024-08-14T21:15:10.135252Z",
     "start_time": "2024-08-14T21:15:10.070966Z"
    }
   },
   "cell_type": "code",
   "source": [
    "from textSummarizer.constants import *\n",
    "from textSummarizer.utils.common import read_yaml, create_directories"
   ],
   "id": "233fcb9e0ccd082b",
   "outputs": [],
   "execution_count": 8
  },
  {
   "metadata": {
    "ExecuteTime": {
     "end_time": "2024-08-14T21:15:10.140652Z",
     "start_time": "2024-08-14T21:15:10.136257Z"
    }
   },
   "cell_type": "code",
   "source": [
    "class ConfigurationManager:\n",
    "    def __init__(\n",
    "        self,\n",
    "        config_filepath = CONFIG_FILE_PATH,\n",
    "        params_filepath = PARAMS_FILE_PATH):\n",
    "\n",
    "        self.config = read_yaml(config_filepath)\n",
    "        self.params = read_yaml(params_filepath)\n",
    "\n",
    "        create_directories([self.config.artifacts_root])\n",
    "\n",
    "    \n",
    "\n",
    "    def get_data_ingestion_config(self) -> DataIngestionConfig:\n",
    "        config = self.config.data_ingestion\n",
    "\n",
    "        create_directories([config.root_dir])\n",
    "\n",
    "        data_ingestion_config = DataIngestionConfig(\n",
    "            root_dir=config.root_dir,\n",
    "            source_URL=config.source_URL,\n",
    "            local_data_file=config.local_data_file,\n",
    "            unzip_dir=config.unzip_dir \n",
    "        )\n",
    "\n",
    "        return data_ingestion_config"
   ],
   "id": "f1083522d1bf4d1b",
   "outputs": [],
   "execution_count": 9
  },
  {
   "metadata": {
    "ExecuteTime": {
     "end_time": "2024-08-14T21:15:10.149423Z",
     "start_time": "2024-08-14T21:15:10.141660Z"
    }
   },
   "cell_type": "code",
   "source": [
    "import os\n",
    "import urllib.request as request\n",
    "import zipfile\n",
    "from textSummarizer.logging import logger\n",
    "from textSummarizer.utils.common import get_size"
   ],
   "id": "f53255f918a62301",
   "outputs": [],
   "execution_count": 10
  },
  {
   "metadata": {
    "ExecuteTime": {
     "end_time": "2024-08-14T21:15:10.157976Z",
     "start_time": "2024-08-14T21:15:10.150434Z"
    }
   },
   "cell_type": "code",
   "source": [
    "class DataIngestion:\n",
    "    def __init__(self, config: DataIngestionConfig):\n",
    "        self.config = config\n",
    "\n",
    "\n",
    "    \n",
    "    def download_file(self):\n",
    "        if not os.path.exists(self.config.local_data_file):\n",
    "            filename, headers = request.urlretrieve(\n",
    "                url = self.config.source_URL,\n",
    "                filename = self.config.local_data_file\n",
    "            )\n",
    "            logger.info(f\"{filename} download! with following info: \\n{headers}\")\n",
    "        else:\n",
    "            logger.info(f\"File already exists of size: {get_size(Path(self.config.local_data_file))}\")  \n",
    "\n",
    "        \n",
    "    \n",
    "    def extract_zip_file(self):\n",
    "        \"\"\"\n",
    "        zip_file_path: str\n",
    "        Extracts the zip file into the data directory\n",
    "        Function returns None\n",
    "        \"\"\"\n",
    "        unzip_path = self.config.unzip_dir\n",
    "        os.makedirs(unzip_path, exist_ok=True)\n",
    "        with zipfile.ZipFile(self.config.local_data_file, 'r') as zip_ref:\n",
    "            zip_ref.extractall(unzip_path)"
   ],
   "id": "f0c3c696cd3ee36",
   "outputs": [],
   "execution_count": 11
  },
  {
   "metadata": {
    "ExecuteTime": {
     "end_time": "2024-08-14T21:15:10.165491Z",
     "start_time": "2024-08-14T21:15:10.158983Z"
    }
   },
   "cell_type": "code",
   "source": [
    "%pwd\n",
    "os.chdir(\"../\")"
   ],
   "id": "60706d1372562053",
   "outputs": [],
   "execution_count": 12
  },
  {
   "metadata": {
    "ExecuteTime": {
     "end_time": "2024-08-14T21:15:10.174292Z",
     "start_time": "2024-08-14T21:15:10.166496Z"
    }
   },
   "cell_type": "code",
   "source": "%pwd",
   "id": "1a447cffc9fe1a68",
   "outputs": [
    {
     "data": {
      "text/plain": [
       "'D:\\\\Developement\\\\Text-Summarizer'"
      ]
     },
     "execution_count": 13,
     "metadata": {},
     "output_type": "execute_result"
    }
   ],
   "execution_count": 13
  },
  {
   "metadata": {
    "ExecuteTime": {
     "end_time": "2024-08-14T21:15:11.859929Z",
     "start_time": "2024-08-14T21:15:10.175299Z"
    }
   },
   "cell_type": "code",
   "source": [
    "try:\n",
    "    config = ConfigurationManager()\n",
    "    data_ingestion_config = config.get_data_ingestion_config()\n",
    "    data_ingestion = DataIngestion(config=data_ingestion_config)\n",
    "    data_ingestion.download_file()\n",
    "    data_ingestion.extract_zip_file()\n",
    "except Exception as e:\n",
    "    raise e"
   ],
   "id": "54c16c6dc50ee682",
   "outputs": [
    {
     "name": "stdout",
     "output_type": "stream",
     "text": [
      "[2024-08-15 02:45:10,182: INFO: common: yaml file: config\\config.yaml loaded successfully]\n",
      "[2024-08-15 02:45:10,186: INFO: common: yaml file: params.yaml loaded successfully]\n",
      "[2024-08-15 02:45:10,187: INFO: common: created directory at: artifacts]\n",
      "[2024-08-15 02:45:10,188: INFO: common: created directory at: artifacts/data_ingestion]\n",
      "[2024-08-15 02:45:11,725: INFO: 3078253932: artifacts/data_ingestion/data.zip download! with following info: \n",
      "Connection: close\n",
      "Content-Length: 7903594\n",
      "Cache-Control: max-age=300\n",
      "Content-Security-Policy: default-src 'none'; style-src 'unsafe-inline'; sandbox\n",
      "Content-Type: application/zip\n",
      "ETag: \"dbc016a060da18070593b83afff580c9b300f0b6ea4147a7988433e04df246ca\"\n",
      "Strict-Transport-Security: max-age=31536000\n",
      "X-Content-Type-Options: nosniff\n",
      "X-Frame-Options: deny\n",
      "X-XSS-Protection: 1; mode=block\n",
      "X-GitHub-Request-Id: 43A6:08DA:4B190A:60E375:66BCF588\n",
      "Accept-Ranges: bytes\n",
      "Date: Wed, 14 Aug 2024 21:15:10 GMT\n",
      "Via: 1.1 varnish\n",
      "X-Served-By: cache-bom4747-BOM\n",
      "X-Cache: HIT\n",
      "X-Cache-Hits: 0\n",
      "X-Timer: S1723670110.320294,VS0,VE1\n",
      "Vary: Authorization,Accept-Encoding,Origin\n",
      "Access-Control-Allow-Origin: *\n",
      "Cross-Origin-Resource-Policy: cross-origin\n",
      "X-Fastly-Request-ID: e1ed784bed25dc62d70361594aa1c45eeb23c237\n",
      "Expires: Wed, 14 Aug 2024 21:20:10 GMT\n",
      "Source-Age: 238\n",
      "\n",
      "]\n"
     ]
    }
   ],
   "execution_count": 14
  }
 ],
 "metadata": {
  "kernelspec": {
   "display_name": "Python 3",
   "language": "python",
   "name": "python3"
  },
  "language_info": {
   "codemirror_mode": {
    "name": "ipython",
    "version": 2
   },
   "file_extension": ".py",
   "mimetype": "text/x-python",
   "name": "python",
   "nbconvert_exporter": "python",
   "pygments_lexer": "ipython2",
   "version": "2.7.6"
  }
 },
 "nbformat": 4,
 "nbformat_minor": 5
}
